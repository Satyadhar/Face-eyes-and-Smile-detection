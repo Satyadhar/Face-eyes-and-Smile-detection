{
 "cells": [
  {
   "cell_type": "code",
   "execution_count": 3,
   "metadata": {},
   "outputs": [
    {
     "data": {
      "text/plain": [
       "-1"
      ]
     },
     "execution_count": 3,
     "metadata": {},
     "output_type": "execute_result"
    }
   ],
   "source": [
    "import cv2\n",
    "\n",
    "eye_cascade=cv2.CascadeClassifier('haarcascade_eye.xml')\n",
    "face_cascade=cv2.CascadeClassifier('haarcascade_frontalface_default.xml')\n",
    "smile_cascade=cv2.CascadeClassifier('haarcascade_smile.xml')\n",
    "\n",
    "img=cv2.imread(\"testtedt.jpg\")\n",
    "gray=cv2.cvtColor(img,cv2.COLOR_BGR2GRAY)\n",
    "\n",
    "eyes=eye_cascade.detectMultiScale(gray,1.1,4)\n",
    "faces=face_cascade.detectMultiScale(gray,1.1,4)\n",
    "smiles=smile_cascade.detectMultiScale(gray,1.1,4)\n",
    "\n",
    "for(x,y,w,h)in faces:\n",
    "    cv2.rectangle(img,(x,y),(x+w,y+h),(0,0,255),5)\n",
    "for(x,y,w,h)in eyes:\n",
    "    cv2.rectangle(img,(x,y),(x+w,y+h),(255,0,0),2)\n",
    "for(x,y,w,h)in smiles:\n",
    "    cv2.rectangle(img,(x,y),(x+w,y+h),(0,255,0),1)\n",
    "\n",
    "cv2.imshow('result',img)\n",
    "cv2.waitKey()"
   ]
  },
  {
   "cell_type": "code",
   "execution_count": 13,
   "metadata": {},
   "outputs": [],
   "source": [
    "import cv2\n",
    "\n",
    "eye_cascade=cv2.CascadeClassifier('haarcascade_eye.xml')\n",
    "face_cascade=cv2.CascadeClassifier('haarcascade_frontalface_default.xml')\n",
    "smile_cascade=cv2.CascadeClassifier('haarcascade_mcs_mouth.xml')\n",
    "\n",
    "cap=cv2.VideoCapture(\"video_test.mp4\")\n",
    "while(cap.isOpened()):\n",
    "    _,frame=cap.read()\n",
    "    gray=cv2.cvtColor(frame,cv2.COLOR_BGR2GRAY)\n",
    "\n",
    "    eyes=eye_cascade.detectMultiScale(gray,1.1,4)\n",
    "    faces=face_cascade.detectMultiScale(gray,1.1,4)\n",
    "    smiles=smile_cascade.detectMultiScale(gray,1.1,4)\n",
    "\n",
    "    for(x,y,w,h)in faces:\n",
    "        cv2.rectangle(frame,(x,y),(x+w,y+h),(0,0,255),2)\n",
    "    for(x,y,w,h)in eyes:\n",
    "        cv2.rectangle(frame,(x,y),(x+w,y+h),(255,0,0),2)\n",
    "    for(x,y,w,h)in smiles:\n",
    "        cv2.rectangle(frame,(x,y),(x+w,y+h),(0,255,0),2)\n",
    "    \n",
    "    cv2.imshow('result',frame)  \n",
    "    if(cv2.waitKey(1)==ord('q')):\n",
    "        break\n",
    "cap.release()\n",
    "cv2.destroyAllWindows()"
   ]
  },
  {
   "cell_type": "code",
   "execution_count": 9,
   "metadata": {},
   "outputs": [],
   "source": [
    "cap=cv2.VideoCapture(\"video_test.mp4\")\n",
    "while(cap.isOpened()):\n",
    "    _,frame=cap.read()\n",
    "    \n",
    "\n",
    "    cv2.imshow('result',frame)  \n",
    "    if(cv2.waitKey(1)==ord('q')):\n",
    "        break\n",
    "cap.release()\n",
    "cv2.destroyAllWindows()"
   ]
  },
  {
   "cell_type": "code",
   "execution_count": null,
   "metadata": {},
   "outputs": [],
   "source": []
  }
 ],
 "metadata": {
  "kernelspec": {
   "display_name": "Python 3",
   "language": "python",
   "name": "python3"
  },
  "language_info": {
   "codemirror_mode": {
    "name": "ipython",
    "version": 3
   },
   "file_extension": ".py",
   "mimetype": "text/x-python",
   "name": "python",
   "nbconvert_exporter": "python",
   "pygments_lexer": "ipython3",
   "version": "3.7.6"
  }
 },
 "nbformat": 4,
 "nbformat_minor": 4
}
